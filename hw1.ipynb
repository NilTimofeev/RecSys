{
 "cells": [
  {
   "cell_type": "markdown",
   "id": "425a10d7-caa9-4f84-abff-f528aeb4ab80",
   "metadata": {},
   "source": [
    "# Домашнее задание №1\n",
    "\n",
    "На семинаре мы проходили метрики, необходимо реализовать некоторые из них"
   ]
  },
  {
   "cell_type": "code",
   "execution_count": 1,
   "id": "6f4acf2d-e8a0-469a-8463-6dc26521c554",
   "metadata": {},
   "outputs": [],
   "source": [
    "import numpy as np\n",
    "import pandas as pd"
   ]
  },
  {
   "cell_type": "markdown",
   "id": "38a80a25-4ea6-49c9-a0f4-c7fc2a80dcc1",
   "metadata": {},
   "source": [
    "## Задание 1. Реализовать метрики Recall@k и  Money Recall@k\n",
    "\n",
    "*Recall* - доля рекомендованных товаров среди релевантных = Какой % купленных товаров был среди рекомендованных\n",
    "\n",
    "$$\\Large Recall@K(i) = \\frac {\\sum_{j=1}^{K}\\mathbb{1}_{r_{ij}}}{|Rel_i|}$$\n",
    "\n",
    "$\\Large |Rel_i|$ -- количество релевантных товаров для пользователя $i$\n",
    "\n",
    "$$\\Large MoneyRecall@K(i) = \\frac {\\sum_{j=1}^{K}\\mathbb{1}_{r_{ij}}\\cdot Price(j)}{\\sum_{s\\in Rel_i}Price(s)}$$\n"
   ]
  },
  {
   "cell_type": "code",
   "execution_count": 2,
   "id": "6cb13dc4",
   "metadata": {},
   "outputs": [],
   "source": [
    "recommended_list = [143, 156, 1134, 991, 27, 1543, 3345, 533, 11, 43] #id товаров\n",
    "bought_list = [521, 32, 143, 991]\n",
    "\n",
    "prices_recommended = [10, 20, 30, 40, 50, 60, 70, 80, 90, 100]\n",
    "prices_bought = [11, 22, 10, 40]"
   ]
  },
  {
   "cell_type": "code",
   "execution_count": 3,
   "id": "34a7db81-664c-4c9b-92c0-d565fa5487fc",
   "metadata": {},
   "outputs": [],
   "source": [
    "def recall_at_k(recommended_list, bought_list, k=5):\n",
    "    \n",
    "    bought_list = np.array(bought_list)\n",
    "    recommended_list = np.array(recommended_list)[:k]\n",
    "    \n",
    "    flags = np.isin(recommended_list,bought_list)\n",
    "    \n",
    "    recall = flags.sum() / len(bought_list)\n",
    "    \n",
    "    return recall\n",
    "\n",
    "\n",
    "def money_recall_at_k(recommended_list, bought_list, prices_recommended, prices_bought, k=5):\n",
    "    \n",
    "    bought_list = np.array(bought_list)\n",
    "    recommended_list = np.array(recommended_list)[:k]\n",
    "    prices_recommended = np.array(prices_recommended)[:k]\n",
    "    prices_bought = np.array(prices_bought)\n",
    "    \n",
    "    flags = np.isin(recommended_list, bought_list)    \n",
    "    \n",
    "    recall = (flags*prices_recommended).sum() / prices_bought.sum()\n",
    "    \n",
    "    return recall"
   ]
  },
  {
   "cell_type": "code",
   "execution_count": 4,
   "id": "5706daa5",
   "metadata": {},
   "outputs": [
    {
     "data": {
      "text/plain": [
       "0.6024096385542169"
      ]
     },
     "execution_count": 4,
     "metadata": {},
     "output_type": "execute_result"
    }
   ],
   "source": [
    "money_recall_at_k(recommended_list, bought_list, prices_recommended, prices_bought)"
   ]
  },
  {
   "cell_type": "code",
   "execution_count": 5,
   "id": "a8bc280f",
   "metadata": {},
   "outputs": [
    {
     "data": {
      "text/plain": [
       "0.5"
      ]
     },
     "execution_count": 5,
     "metadata": {},
     "output_type": "execute_result"
    }
   ],
   "source": [
    "recall_at_k(recommended_list, bought_list)"
   ]
  },
  {
   "cell_type": "markdown",
   "id": "b42d4d0d-6073-47b6-ad54-586a477405e5",
   "metadata": {},
   "source": [
    "## Задание 2. Реализовать метрику MRR@k\n",
    "\n",
    "Mean Reciprocal Rank\n",
    "\n",
    "- Считаем для первых k рекоммендаций\n",
    "- Найти ранк первого релевантного предсказания $\\Large rank_j$\n",
    "- Посчитать reciprocal rank = $\\Large\\frac{1}{rank_j}$\n",
    "\n",
    "$$\\Large  ReciprocalRank(i)@k=\\frac {1}{\\min\\limits_{j\\in Rel(i)} rank_j}$$"
   ]
  },
  {
   "cell_type": "code",
   "execution_count": 6,
   "id": "9c8940da-3621-4a54-8236-810a42ed4b77",
   "metadata": {},
   "outputs": [],
   "source": [
    "def reciprocal_rank_at_k(recommended_list, bought_list, k=5):\n",
    "    bought_list = np.array(bought_list)[:k]\n",
    "    recommended_list = np.array(recommended_list)[:k]\n",
    "    \n",
    "    flags = np.isin(recommended_list, bought_list)\n",
    "    idx = np.where(flags)[0] + 1\n",
    "\n",
    "    mrr = sum(1/idx) / len(idx)\n",
    "\n",
    "    return mrr"
   ]
  },
  {
   "cell_type": "code",
   "execution_count": 7,
   "id": "9955b3ac",
   "metadata": {},
   "outputs": [
    {
     "data": {
      "text/plain": [
       "0.625"
      ]
     },
     "execution_count": 7,
     "metadata": {},
     "output_type": "execute_result"
    }
   ],
   "source": [
    "reciprocal_rank_at_k(recommended_list, bought_list)"
   ]
  },
  {
   "cell_type": "markdown",
   "id": "1c3008cc-fd9e-44c6-8913-43d71ffb9cd7",
   "metadata": {},
   "source": [
    "## Задание 3*. Реализовать метрику nDCG@k\n",
    "Normalized discounted cumulative gain. Эту метрику реализовать будет немного сложнее.\n",
    "\n",
    "$$\\Large DCG@K(i) = \\sum_{j=1}^{K}\\frac{\\mathbb{1}_{r_{ij}}}{\\log_2 (j+1)}$$\n",
    "\n",
    "\n",
    "$\\Large \\mathbb{1}_{r_{ij}}$ -- индикаторная функция показывает что пользователь $i$ провзаимодействовал с продуктом $j$\n",
    "\n",
    "Для подсчета $nDCG$ нам необходимо найти максимально возможный $DCG$ для пользователя $i$  и рекомендаций длины $K$.\n",
    "Максимальный $DCG$ достигается когда мы порекомендовали максимально возможное количество релевантных продуктов и все они в начале списка рекомендаций.\n",
    "\n",
    "$$\\Large IDCG@K(i) = max(DCG@K(i)) = \\sum_{j=1}^{K}\\frac{\\mathbb{1}_{j\\le|Rel_i|}}{\\log_2 (j+1)}$$\n",
    "\n",
    "$$\\Large nDCG@K(i) = \\frac {DCG@K(i)}{IDCG@K(i)}$$\n",
    "\n",
    "$\\Large |Rel_i|$ -- количество релевантных продуктов для пользователя $i$\n",
    "\n"
   ]
  },
  {
   "cell_type": "code",
   "execution_count": 8,
   "id": "67d7e53c-dfd8-4423-a107-f85880a45c7e",
   "metadata": {},
   "outputs": [],
   "source": [
    "def ndcg_at_k(recommended_list, bought_list, k=5):\n",
    "    \n",
    "    bought_list = np.array(bought_list)[:k]\n",
    "    recommended_list = np.array(recommended_list)[:k]\n",
    "    \n",
    "    flags = np.isin(recommended_list, bought_list)\n",
    "    idx_dcg = np.where(flags)[0] + 1\n",
    "    idx_idcg = np.arange(1, k + 1)\n",
    "    \n",
    "    #1 if i <= 2,   \n",
    "    #log_2(i) if i > 2\n",
    "    dcg = sum(1 / np.array([np.log2(i) if i>2 else 1 for i in idx_dcg]))\n",
    "    idcg = sum(1 / np.array([np.log2(i) if i>2 else 1 for i in idx_idcg]))\n",
    "    ndcg = dcg / idcg\n",
    "    \n",
    "    return ndcg "
   ]
  },
  {
   "cell_type": "code",
   "execution_count": 9,
   "id": "2986d57e",
   "metadata": {},
   "outputs": [
    {
     "data": {
      "text/plain": [
       "0.4211582832992166"
      ]
     },
     "execution_count": 9,
     "metadata": {},
     "output_type": "execute_result"
    }
   ],
   "source": [
    "ndcg_at_k(recommended_list, bought_list)"
   ]
  }
 ],
 "metadata": {
  "kernelspec": {
   "display_name": "Python 3 (ipykernel)",
   "language": "python",
   "name": "python3"
  },
  "language_info": {
   "codemirror_mode": {
    "name": "ipython",
    "version": 3
   },
   "file_extension": ".py",
   "mimetype": "text/x-python",
   "name": "python",
   "nbconvert_exporter": "python",
   "pygments_lexer": "ipython3",
   "version": "3.9.7"
  }
 },
 "nbformat": 4,
 "nbformat_minor": 5
}
